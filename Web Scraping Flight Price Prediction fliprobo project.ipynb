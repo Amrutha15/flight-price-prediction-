{
 "cells": [
  {
   "cell_type": "markdown",
   "id": "9a9e5092",
   "metadata": {},
   "source": [
    "# Web Scrapping Flight Prices"
   ]
  },
  {
   "cell_type": "code",
   "execution_count": 32,
   "id": "42bc2446",
   "metadata": {},
   "outputs": [],
   "source": [
    "## Importing Libraries\n",
    "\n",
    "import selenium\n",
    "from selenium import webdriver\n",
    "import pandas as pd\n",
    "import numpy as np\n",
    "import time\n",
    "from selenium.common.exceptions import StaleElementReferenceException, NoSuchElementException"
   ]
  },
  {
   "cell_type": "code",
   "execution_count": 33,
   "id": "a364fd50",
   "metadata": {},
   "outputs": [
    {
     "name": "stderr",
     "output_type": "stream",
     "text": [
      "<ipython-input-33-69c61a62e133>:1: DeprecationWarning: executable_path has been deprecated, please pass in a Service object\n",
      "  driver = webdriver.Chrome(r\"C:\\Users\\lenovo\\Downloads\\chromedriver_win32 (2)\\chromedriver.exe\")\n"
     ]
    }
   ],
   "source": [
    "driver = webdriver.Chrome(r\"C:\\Users\\lenovo\\Downloads\\chromedriver_win32 (2)\\chromedriver.exe\")"
   ]
  },
  {
   "cell_type": "code",
   "execution_count": 34,
   "id": "4c57c5d2",
   "metadata": {},
   "outputs": [],
   "source": [
    "url='https://www.yatra.com/'\n",
    "driver.get(url)"
   ]
  },
  {
   "cell_type": "code",
   "execution_count": 35,
   "id": "844b37c6",
   "metadata": {},
   "outputs": [],
   "source": [
    "name=[]\n",
    "date=[]\n",
    "source=[]\n",
    "destination=[]\n",
    "dept_time=[]\n",
    "arrival_time=[]\n",
    "duration=[]\n",
    "stops=[]\n",
    "price=[]\n",
    "link=[]"
   ]
  },
  {
   "cell_type": "code",
   "execution_count": 36,
   "id": "72de655b",
   "metadata": {},
   "outputs": [
    {
     "name": "stderr",
     "output_type": "stream",
     "text": [
      "<ipython-input-36-653654c856fb>:1: DeprecationWarning: find_elements_by_* commands are deprecated. Please use find_elements() instead\n",
      "  city_tag=driver.find_elements_by_xpath(\"//ul[@class='destlist']/li\")\n",
      "<ipython-input-36-653654c856fb>:5: DeprecationWarning: find_elements_by_* commands are deprecated. Please use find_elements() instead\n",
      "  tags=driver.find_elements_by_xpath(\"//a[@class='VueCarousel-slide items']\")\n"
     ]
    }
   ],
   "source": [
    "city_tag=driver.find_elements_by_xpath(\"//ul[@class='destlist']/li\")\n",
    "for i in city_tag:\n",
    "    i.click()\n",
    "    try:\n",
    "        tags=driver.find_elements_by_xpath(\"//a[@class='VueCarousel-slide items']\")\n",
    "        for i in tags:\n",
    "            link.append(i.get_attribute(\"href\"))\n",
    "    except:\n",
    "        pass;"
   ]
  },
  {
   "cell_type": "code",
   "execution_count": 37,
   "id": "6d2a7a9a",
   "metadata": {},
   "outputs": [
    {
     "name": "stderr",
     "output_type": "stream",
     "text": [
      "<ipython-input-37-631b3c7c4ac9>:4: DeprecationWarning: find_elements_by_* commands are deprecated. Please use find_elements() instead\n",
      "  nm=driver.find_elements_by_xpath(\"//div[@class='fs-13 airline-name no-pad col-8']/span\")\n",
      "<ipython-input-37-631b3c7c4ac9>:8: DeprecationWarning: find_elements_by_* commands are deprecated. Please use find_elements() instead\n",
      "  time=driver.find_elements_by_xpath(\"//div[@class='i-b col-4 no-wrap text-right dtime col-3']/div\")\n",
      "<ipython-input-37-631b3c7c4ac9>:12: DeprecationWarning: find_elements_by_* commands are deprecated. Please use find_elements() instead\n",
      "  source_tag=driver.find_elements_by_xpath(\"//div[@class='i-b col-4 no-wrap text-right dtime col-3']/p\")\n",
      "<ipython-input-37-631b3c7c4ac9>:16: DeprecationWarning: find_elements_by_* commands are deprecated. Please use find_elements() instead\n",
      "  time=driver.find_elements_by_xpath(\"//div[@class='i-b pdd-0 text-left atime col-5']/p[1]\")\n",
      "<ipython-input-37-631b3c7c4ac9>:20: DeprecationWarning: find_elements_by_* commands are deprecated. Please use find_elements() instead\n",
      "  dest_tag=driver.find_elements_by_xpath(\"//div[@class='i-b pdd-0 text-left atime col-5']/p[2]\")\n",
      "<ipython-input-37-631b3c7c4ac9>:24: DeprecationWarning: find_elements_by_* commands are deprecated. Please use find_elements() instead\n",
      "  duration_tag=driver.find_elements_by_xpath(\"//div[@class='stop-cont pl-13']/p\")\n",
      "<ipython-input-37-631b3c7c4ac9>:28: DeprecationWarning: find_elements_by_* commands are deprecated. Please use find_elements() instead\n",
      "  stops_tag=driver.find_elements_by_xpath(\"//div[@class='stop-cont pl-13']/div\")\n",
      "<ipython-input-37-631b3c7c4ac9>:32: DeprecationWarning: find_elements_by_* commands are deprecated. Please use find_elements() instead\n",
      "  price_tag=driver.find_elements_by_xpath(\"//div[@class='i-b tipsy fare-summary-tooltip fs-18']\")\n",
      "<ipython-input-37-631b3c7c4ac9>:37: DeprecationWarning: find_element_by_* commands are deprecated. Please use find_element() instead\n",
      "  date_tag=driver.find_element_by_id(\"depart-date-span\")\n"
     ]
    }
   ],
   "source": [
    "for i in link:\n",
    "    driver.get(i)\n",
    "    \n",
    "    nm=driver.find_elements_by_xpath(\"//div[@class='fs-13 airline-name no-pad col-8']/span\")\n",
    "    for j in nm:\n",
    "        name.append(j.text.replace(\"\\n\",\" \"))\n",
    "    \n",
    "    time=driver.find_elements_by_xpath(\"//div[@class='i-b col-4 no-wrap text-right dtime col-3']/div\")\n",
    "    for j in time:\n",
    "        dept_time.append(j.text.replace(\"\\n\",\" \"))\n",
    "        \n",
    "    source_tag=driver.find_elements_by_xpath(\"//div[@class='i-b col-4 no-wrap text-right dtime col-3']/p\")\n",
    "    for j in source_tag:\n",
    "        source.append(j.text.replace(\"\\n\",\" \"))\n",
    "    \n",
    "    time=driver.find_elements_by_xpath(\"//div[@class='i-b pdd-0 text-left atime col-5']/p[1]\")\n",
    "    for j in time:\n",
    "        arrival_time.append(j.text.replace(\"\\n\",\" \"))\n",
    "   \n",
    "    dest_tag=driver.find_elements_by_xpath(\"//div[@class='i-b pdd-0 text-left atime col-5']/p[2]\")\n",
    "    for j in dest_tag:\n",
    "        destination.append(j.text.replace(\"\\n\",\" \"))\n",
    "   \n",
    "    duration_tag=driver.find_elements_by_xpath(\"//div[@class='stop-cont pl-13']/p\")\n",
    "    for j in duration_tag:\n",
    "        duration.append(j.text.replace(\"\\n\",\" \"))\n",
    "    \n",
    "    stops_tag=driver.find_elements_by_xpath(\"//div[@class='stop-cont pl-13']/div\")\n",
    "    for j in stops_tag:\n",
    "        stops.append(j.text.replace(\"\\n\",\" \"))\n",
    "    c=0\n",
    "    price_tag=driver.find_elements_by_xpath(\"//div[@class='i-b tipsy fare-summary-tooltip fs-18']\")\n",
    "    for j in price_tag:\n",
    "        price.append(j.text.replace(\"\\n\",\" \"))\n",
    "        c=c+1\n",
    "    \n",
    "    date_tag=driver.find_element_by_id(\"depart-date-span\")\n",
    "    for j in range(c):\n",
    "        date.append(date_tag.text.replace(\"/n\",\" \"))"
   ]
  },
  {
   "cell_type": "markdown",
   "id": "aeed68b5",
   "metadata": {},
   "source": [
    "Flights to various destinations from New Delhi"
   ]
  },
  {
   "cell_type": "code",
   "execution_count": 40,
   "id": "572c0097",
   "metadata": {},
   "outputs": [],
   "source": [
    "url='https://flight.yatra.com/air-search-ui/dom2/trigger?type=O&viewName=normal&flexi=0&noOfSegments=1&origin=DEL&originCountry=IN&destination=BOM&destinationCountry=IN&flight_depart_date=25%2F11%2F2021&ADT=1&CHD=0&INF=0&class=Economy&source=fresco-home&unqvaldesktop=1153586832833'\n",
    "driver.get(url)\n"
   ]
  },
  {
   "cell_type": "code",
   "execution_count": 41,
   "id": "2e5a4b5f",
   "metadata": {},
   "outputs": [
    {
     "name": "stderr",
     "output_type": "stream",
     "text": [
      "<ipython-input-41-cbc6b6d89182>:1: DeprecationWarning: find_elements_by_* commands are deprecated. Please use find_elements() instead\n",
      "  nm=driver.find_elements_by_xpath(\"//div[@class='fs-13 airline-name no-pad col-8']/span\")\n",
      "<ipython-input-41-cbc6b6d89182>:5: DeprecationWarning: find_elements_by_* commands are deprecated. Please use find_elements() instead\n",
      "  time=driver.find_elements_by_xpath(\"//div[@class='i-b col-4 no-wrap text-right dtime col-3']/div\")\n",
      "<ipython-input-41-cbc6b6d89182>:9: DeprecationWarning: find_elements_by_* commands are deprecated. Please use find_elements() instead\n",
      "  source_tag=driver.find_elements_by_xpath(\"//div[@class='i-b col-4 no-wrap text-right dtime col-3']/p\")\n",
      "<ipython-input-41-cbc6b6d89182>:13: DeprecationWarning: find_elements_by_* commands are deprecated. Please use find_elements() instead\n",
      "  time=driver.find_elements_by_xpath(\"//div[@class='i-b pdd-0 text-left atime col-5']/p[1]\")\n",
      "<ipython-input-41-cbc6b6d89182>:17: DeprecationWarning: find_elements_by_* commands are deprecated. Please use find_elements() instead\n",
      "  dest_tag=driver.find_elements_by_xpath(\"//div[@class='i-b pdd-0 text-left atime col-5']/p[2]\")\n",
      "<ipython-input-41-cbc6b6d89182>:21: DeprecationWarning: find_elements_by_* commands are deprecated. Please use find_elements() instead\n",
      "  duration_tag=driver.find_elements_by_xpath(\"//div[@class='stop-cont pl-13']/p\")\n",
      "<ipython-input-41-cbc6b6d89182>:25: DeprecationWarning: find_elements_by_* commands are deprecated. Please use find_elements() instead\n",
      "  stops_tag=driver.find_elements_by_xpath(\"//div[@class='stop-cont pl-13']/div\")\n",
      "<ipython-input-41-cbc6b6d89182>:30: DeprecationWarning: find_elements_by_* commands are deprecated. Please use find_elements() instead\n",
      "  price_tag=driver.find_elements_by_xpath(\"//div[@class='i-b tipsy fare-summary-tooltip fs-18']\")\n",
      "<ipython-input-41-cbc6b6d89182>:35: DeprecationWarning: find_element_by_* commands are deprecated. Please use find_element() instead\n",
      "  date_tag=driver.find_element_by_xpath(\"//div[@class='input-holder pb-2 depart']/label/input\")\n"
     ]
    }
   ],
   "source": [
    "nm=driver.find_elements_by_xpath(\"//div[@class='fs-13 airline-name no-pad col-8']/span\")\n",
    "for j in nm:\n",
    "    name.append(j.text.replace(\"\\n\",\" \"))\n",
    "    \n",
    "time=driver.find_elements_by_xpath(\"//div[@class='i-b col-4 no-wrap text-right dtime col-3']/div\")\n",
    "for j in time:\n",
    "    dept_time.append(j.text.replace(\"\\n\",\" \"))\n",
    "        \n",
    "source_tag=driver.find_elements_by_xpath(\"//div[@class='i-b col-4 no-wrap text-right dtime col-3']/p\")\n",
    "for j in source_tag:\n",
    "    source.append(j.text.replace(\"\\n\",\" \"))\n",
    "    \n",
    "time=driver.find_elements_by_xpath(\"//div[@class='i-b pdd-0 text-left atime col-5']/p[1]\")\n",
    "for j in time:\n",
    "    arrival_time.append(j.text.replace(\"\\n\",\" \"))\n",
    "\n",
    "dest_tag=driver.find_elements_by_xpath(\"//div[@class='i-b pdd-0 text-left atime col-5']/p[2]\")\n",
    "for j in dest_tag:\n",
    "    destination.append(j.text.replace(\"\\n\",\" \"))\n",
    "\n",
    "duration_tag=driver.find_elements_by_xpath(\"//div[@class='stop-cont pl-13']/p\")\n",
    "for j in duration_tag:\n",
    "    duration.append(j.text.replace(\"\\n\",\" \"))\n",
    "    \n",
    "stops_tag=driver.find_elements_by_xpath(\"//div[@class='stop-cont pl-13']/div\")\n",
    "for j in stops_tag:\n",
    "    stops.append(j.text.replace(\"\\n\",\" \"))\n",
    "    \n",
    "c=0\n",
    "price_tag=driver.find_elements_by_xpath(\"//div[@class='i-b tipsy fare-summary-tooltip fs-18']\")\n",
    "for j in price_tag:\n",
    "    price.append(j.text.replace(\"\\n\",\" \"))\n",
    "    c=c+1\n",
    "    \n",
    "date_tag=driver.find_element_by_xpath(\"//div[@class='input-holder pb-2 depart']/label/input\")\n",
    "for j in range(c):\n",
    "    date.append(date_tag.text.replace(\"/n\",\" \"))"
   ]
  },
  {
   "cell_type": "code",
   "execution_count": 42,
   "id": "6b2bfb5b",
   "metadata": {},
   "outputs": [],
   "source": [
    "url='https://flight.yatra.com/air-search-ui/dom2/trigger?type=O&viewName=normal&flexi=0&noOfSegments=1&origin=BOM&originCountry=IN&destination=DEL&destinationCountry=IN&flight_depart_date=30%2F11%2F2021&ADT=1&CHD=0&INF=0&class=Economy&source=fresco-home&unqvaldesktop=1067595320744'\n",
    "driver.get(url)\n"
   ]
  },
  {
   "cell_type": "code",
   "execution_count": 43,
   "id": "42901eac",
   "metadata": {},
   "outputs": [
    {
     "name": "stderr",
     "output_type": "stream",
     "text": [
      "<ipython-input-43-cbc6b6d89182>:1: DeprecationWarning: find_elements_by_* commands are deprecated. Please use find_elements() instead\n",
      "  nm=driver.find_elements_by_xpath(\"//div[@class='fs-13 airline-name no-pad col-8']/span\")\n",
      "<ipython-input-43-cbc6b6d89182>:5: DeprecationWarning: find_elements_by_* commands are deprecated. Please use find_elements() instead\n",
      "  time=driver.find_elements_by_xpath(\"//div[@class='i-b col-4 no-wrap text-right dtime col-3']/div\")\n",
      "<ipython-input-43-cbc6b6d89182>:9: DeprecationWarning: find_elements_by_* commands are deprecated. Please use find_elements() instead\n",
      "  source_tag=driver.find_elements_by_xpath(\"//div[@class='i-b col-4 no-wrap text-right dtime col-3']/p\")\n",
      "<ipython-input-43-cbc6b6d89182>:13: DeprecationWarning: find_elements_by_* commands are deprecated. Please use find_elements() instead\n",
      "  time=driver.find_elements_by_xpath(\"//div[@class='i-b pdd-0 text-left atime col-5']/p[1]\")\n",
      "<ipython-input-43-cbc6b6d89182>:17: DeprecationWarning: find_elements_by_* commands are deprecated. Please use find_elements() instead\n",
      "  dest_tag=driver.find_elements_by_xpath(\"//div[@class='i-b pdd-0 text-left atime col-5']/p[2]\")\n",
      "<ipython-input-43-cbc6b6d89182>:21: DeprecationWarning: find_elements_by_* commands are deprecated. Please use find_elements() instead\n",
      "  duration_tag=driver.find_elements_by_xpath(\"//div[@class='stop-cont pl-13']/p\")\n",
      "<ipython-input-43-cbc6b6d89182>:25: DeprecationWarning: find_elements_by_* commands are deprecated. Please use find_elements() instead\n",
      "  stops_tag=driver.find_elements_by_xpath(\"//div[@class='stop-cont pl-13']/div\")\n",
      "<ipython-input-43-cbc6b6d89182>:30: DeprecationWarning: find_elements_by_* commands are deprecated. Please use find_elements() instead\n",
      "  price_tag=driver.find_elements_by_xpath(\"//div[@class='i-b tipsy fare-summary-tooltip fs-18']\")\n",
      "<ipython-input-43-cbc6b6d89182>:35: DeprecationWarning: find_element_by_* commands are deprecated. Please use find_element() instead\n",
      "  date_tag=driver.find_element_by_xpath(\"//div[@class='input-holder pb-2 depart']/label/input\")\n"
     ]
    }
   ],
   "source": [
    "nm=driver.find_elements_by_xpath(\"//div[@class='fs-13 airline-name no-pad col-8']/span\")\n",
    "for j in nm:\n",
    "    name.append(j.text.replace(\"\\n\",\" \"))\n",
    "    \n",
    "time=driver.find_elements_by_xpath(\"//div[@class='i-b col-4 no-wrap text-right dtime col-3']/div\")\n",
    "for j in time:\n",
    "    dept_time.append(j.text.replace(\"\\n\",\" \"))\n",
    "        \n",
    "source_tag=driver.find_elements_by_xpath(\"//div[@class='i-b col-4 no-wrap text-right dtime col-3']/p\")\n",
    "for j in source_tag:\n",
    "    source.append(j.text.replace(\"\\n\",\" \"))\n",
    "    \n",
    "time=driver.find_elements_by_xpath(\"//div[@class='i-b pdd-0 text-left atime col-5']/p[1]\")\n",
    "for j in time:\n",
    "    arrival_time.append(j.text.replace(\"\\n\",\" \"))\n",
    "\n",
    "dest_tag=driver.find_elements_by_xpath(\"//div[@class='i-b pdd-0 text-left atime col-5']/p[2]\")\n",
    "for j in dest_tag:\n",
    "    destination.append(j.text.replace(\"\\n\",\" \"))\n",
    "\n",
    "duration_tag=driver.find_elements_by_xpath(\"//div[@class='stop-cont pl-13']/p\")\n",
    "for j in duration_tag:\n",
    "    duration.append(j.text.replace(\"\\n\",\" \"))\n",
    "    \n",
    "stops_tag=driver.find_elements_by_xpath(\"//div[@class='stop-cont pl-13']/div\")\n",
    "for j in stops_tag:\n",
    "    stops.append(j.text.replace(\"\\n\",\" \"))\n",
    "    \n",
    "c=0\n",
    "price_tag=driver.find_elements_by_xpath(\"//div[@class='i-b tipsy fare-summary-tooltip fs-18']\")\n",
    "for j in price_tag:\n",
    "    price.append(j.text.replace(\"\\n\",\" \"))\n",
    "    c=c+1\n",
    "    \n",
    "date_tag=driver.find_element_by_xpath(\"//div[@class='input-holder pb-2 depart']/label/input\")\n",
    "for j in range(c):\n",
    "    date.append(date_tag.text.replace(\"/n\",\" \"))"
   ]
  },
  {
   "cell_type": "code",
   "execution_count": 44,
   "id": "ddd5496e",
   "metadata": {},
   "outputs": [],
   "source": [
    "url='https://flight.yatra.com/air-search-ui/dom2/trigger?type=O&viewName=normal&flexi=0&noOfSegments=1&origin=BLR&originCountry=IN&destination=DEL&destinationCountry=IN&flight_depart_date=19%2F11%2F2021&ADT=1&CHD=0&INF=0&class=Economy&source=fresco-home&unqvaldesktop=649990488766'\n",
    "driver.get(url)\n"
   ]
  },
  {
   "cell_type": "code",
   "execution_count": 45,
   "id": "504443f8",
   "metadata": {},
   "outputs": [
    {
     "name": "stderr",
     "output_type": "stream",
     "text": [
      "<ipython-input-45-cbc6b6d89182>:1: DeprecationWarning: find_elements_by_* commands are deprecated. Please use find_elements() instead\n",
      "  nm=driver.find_elements_by_xpath(\"//div[@class='fs-13 airline-name no-pad col-8']/span\")\n",
      "<ipython-input-45-cbc6b6d89182>:5: DeprecationWarning: find_elements_by_* commands are deprecated. Please use find_elements() instead\n",
      "  time=driver.find_elements_by_xpath(\"//div[@class='i-b col-4 no-wrap text-right dtime col-3']/div\")\n",
      "<ipython-input-45-cbc6b6d89182>:9: DeprecationWarning: find_elements_by_* commands are deprecated. Please use find_elements() instead\n",
      "  source_tag=driver.find_elements_by_xpath(\"//div[@class='i-b col-4 no-wrap text-right dtime col-3']/p\")\n",
      "<ipython-input-45-cbc6b6d89182>:13: DeprecationWarning: find_elements_by_* commands are deprecated. Please use find_elements() instead\n",
      "  time=driver.find_elements_by_xpath(\"//div[@class='i-b pdd-0 text-left atime col-5']/p[1]\")\n",
      "<ipython-input-45-cbc6b6d89182>:17: DeprecationWarning: find_elements_by_* commands are deprecated. Please use find_elements() instead\n",
      "  dest_tag=driver.find_elements_by_xpath(\"//div[@class='i-b pdd-0 text-left atime col-5']/p[2]\")\n",
      "<ipython-input-45-cbc6b6d89182>:21: DeprecationWarning: find_elements_by_* commands are deprecated. Please use find_elements() instead\n",
      "  duration_tag=driver.find_elements_by_xpath(\"//div[@class='stop-cont pl-13']/p\")\n",
      "<ipython-input-45-cbc6b6d89182>:25: DeprecationWarning: find_elements_by_* commands are deprecated. Please use find_elements() instead\n",
      "  stops_tag=driver.find_elements_by_xpath(\"//div[@class='stop-cont pl-13']/div\")\n",
      "<ipython-input-45-cbc6b6d89182>:30: DeprecationWarning: find_elements_by_* commands are deprecated. Please use find_elements() instead\n",
      "  price_tag=driver.find_elements_by_xpath(\"//div[@class='i-b tipsy fare-summary-tooltip fs-18']\")\n",
      "<ipython-input-45-cbc6b6d89182>:35: DeprecationWarning: find_element_by_* commands are deprecated. Please use find_element() instead\n",
      "  date_tag=driver.find_element_by_xpath(\"//div[@class='input-holder pb-2 depart']/label/input\")\n"
     ]
    }
   ],
   "source": [
    "nm=driver.find_elements_by_xpath(\"//div[@class='fs-13 airline-name no-pad col-8']/span\")\n",
    "for j in nm:\n",
    "    name.append(j.text.replace(\"\\n\",\" \"))\n",
    "    \n",
    "time=driver.find_elements_by_xpath(\"//div[@class='i-b col-4 no-wrap text-right dtime col-3']/div\")\n",
    "for j in time:\n",
    "    dept_time.append(j.text.replace(\"\\n\",\" \"))\n",
    "        \n",
    "source_tag=driver.find_elements_by_xpath(\"//div[@class='i-b col-4 no-wrap text-right dtime col-3']/p\")\n",
    "for j in source_tag:\n",
    "    source.append(j.text.replace(\"\\n\",\" \"))\n",
    "    \n",
    "time=driver.find_elements_by_xpath(\"//div[@class='i-b pdd-0 text-left atime col-5']/p[1]\")\n",
    "for j in time:\n",
    "    arrival_time.append(j.text.replace(\"\\n\",\" \"))\n",
    "\n",
    "dest_tag=driver.find_elements_by_xpath(\"//div[@class='i-b pdd-0 text-left atime col-5']/p[2]\")\n",
    "for j in dest_tag:\n",
    "    destination.append(j.text.replace(\"\\n\",\" \"))\n",
    "\n",
    "duration_tag=driver.find_elements_by_xpath(\"//div[@class='stop-cont pl-13']/p\")\n",
    "for j in duration_tag:\n",
    "    duration.append(j.text.replace(\"\\n\",\" \"))\n",
    "    \n",
    "stops_tag=driver.find_elements_by_xpath(\"//div[@class='stop-cont pl-13']/div\")\n",
    "for j in stops_tag:\n",
    "    stops.append(j.text.replace(\"\\n\",\" \"))\n",
    "    \n",
    "c=0\n",
    "price_tag=driver.find_elements_by_xpath(\"//div[@class='i-b tipsy fare-summary-tooltip fs-18']\")\n",
    "for j in price_tag:\n",
    "    price.append(j.text.replace(\"\\n\",\" \"))\n",
    "    c=c+1\n",
    "    \n",
    "date_tag=driver.find_element_by_xpath(\"//div[@class='input-holder pb-2 depart']/label/input\")\n",
    "for j in range(c):\n",
    "    date.append(date_tag.text.replace(\"/n\",\" \"))"
   ]
  },
  {
   "cell_type": "markdown",
   "id": "c67afa1e",
   "metadata": {},
   "source": [
    "Flights to various destinations from mumbai"
   ]
  },
  {
   "cell_type": "code",
   "execution_count": 48,
   "id": "9f70cc6c",
   "metadata": {},
   "outputs": [],
   "source": [
    "url='https://flight.yatra.com/air-search-ui/dom2/trigger?type=O&viewName=normal&flexi=0&noOfSegments=1&origin=BLR&originCountry=IN&destination=DEL&destinationCountry=IN&flight_depart_date=19%2F11%2F2021&ADT=1&CHD=0&INF=0&class=Economy&source=fresco-home&unqvaldesktop=649990488766'\n",
    "driver.get(url)\n"
   ]
  },
  {
   "cell_type": "code",
   "execution_count": 49,
   "id": "e5700500",
   "metadata": {},
   "outputs": [
    {
     "name": "stderr",
     "output_type": "stream",
     "text": [
      "<ipython-input-49-cbc6b6d89182>:1: DeprecationWarning: find_elements_by_* commands are deprecated. Please use find_elements() instead\n",
      "  nm=driver.find_elements_by_xpath(\"//div[@class='fs-13 airline-name no-pad col-8']/span\")\n",
      "<ipython-input-49-cbc6b6d89182>:5: DeprecationWarning: find_elements_by_* commands are deprecated. Please use find_elements() instead\n",
      "  time=driver.find_elements_by_xpath(\"//div[@class='i-b col-4 no-wrap text-right dtime col-3']/div\")\n",
      "<ipython-input-49-cbc6b6d89182>:9: DeprecationWarning: find_elements_by_* commands are deprecated. Please use find_elements() instead\n",
      "  source_tag=driver.find_elements_by_xpath(\"//div[@class='i-b col-4 no-wrap text-right dtime col-3']/p\")\n",
      "<ipython-input-49-cbc6b6d89182>:13: DeprecationWarning: find_elements_by_* commands are deprecated. Please use find_elements() instead\n",
      "  time=driver.find_elements_by_xpath(\"//div[@class='i-b pdd-0 text-left atime col-5']/p[1]\")\n",
      "<ipython-input-49-cbc6b6d89182>:17: DeprecationWarning: find_elements_by_* commands are deprecated. Please use find_elements() instead\n",
      "  dest_tag=driver.find_elements_by_xpath(\"//div[@class='i-b pdd-0 text-left atime col-5']/p[2]\")\n",
      "<ipython-input-49-cbc6b6d89182>:21: DeprecationWarning: find_elements_by_* commands are deprecated. Please use find_elements() instead\n",
      "  duration_tag=driver.find_elements_by_xpath(\"//div[@class='stop-cont pl-13']/p\")\n",
      "<ipython-input-49-cbc6b6d89182>:25: DeprecationWarning: find_elements_by_* commands are deprecated. Please use find_elements() instead\n",
      "  stops_tag=driver.find_elements_by_xpath(\"//div[@class='stop-cont pl-13']/div\")\n",
      "<ipython-input-49-cbc6b6d89182>:30: DeprecationWarning: find_elements_by_* commands are deprecated. Please use find_elements() instead\n",
      "  price_tag=driver.find_elements_by_xpath(\"//div[@class='i-b tipsy fare-summary-tooltip fs-18']\")\n",
      "<ipython-input-49-cbc6b6d89182>:35: DeprecationWarning: find_element_by_* commands are deprecated. Please use find_element() instead\n",
      "  date_tag=driver.find_element_by_xpath(\"//div[@class='input-holder pb-2 depart']/label/input\")\n"
     ]
    }
   ],
   "source": [
    "nm=driver.find_elements_by_xpath(\"//div[@class='fs-13 airline-name no-pad col-8']/span\")\n",
    "for j in nm:\n",
    "    name.append(j.text.replace(\"\\n\",\" \"))\n",
    "    \n",
    "time=driver.find_elements_by_xpath(\"//div[@class='i-b col-4 no-wrap text-right dtime col-3']/div\")\n",
    "for j in time:\n",
    "    dept_time.append(j.text.replace(\"\\n\",\" \"))\n",
    "        \n",
    "source_tag=driver.find_elements_by_xpath(\"//div[@class='i-b col-4 no-wrap text-right dtime col-3']/p\")\n",
    "for j in source_tag:\n",
    "    source.append(j.text.replace(\"\\n\",\" \"))\n",
    "    \n",
    "time=driver.find_elements_by_xpath(\"//div[@class='i-b pdd-0 text-left atime col-5']/p[1]\")\n",
    "for j in time:\n",
    "    arrival_time.append(j.text.replace(\"\\n\",\" \"))\n",
    "\n",
    "dest_tag=driver.find_elements_by_xpath(\"//div[@class='i-b pdd-0 text-left atime col-5']/p[2]\")\n",
    "for j in dest_tag:\n",
    "    destination.append(j.text.replace(\"\\n\",\" \"))\n",
    "\n",
    "duration_tag=driver.find_elements_by_xpath(\"//div[@class='stop-cont pl-13']/p\")\n",
    "for j in duration_tag:\n",
    "    duration.append(j.text.replace(\"\\n\",\" \"))\n",
    "    \n",
    "stops_tag=driver.find_elements_by_xpath(\"//div[@class='stop-cont pl-13']/div\")\n",
    "for j in stops_tag:\n",
    "    stops.append(j.text.replace(\"\\n\",\" \"))\n",
    "    \n",
    "c=0\n",
    "price_tag=driver.find_elements_by_xpath(\"//div[@class='i-b tipsy fare-summary-tooltip fs-18']\")\n",
    "for j in price_tag:\n",
    "    price.append(j.text.replace(\"\\n\",\" \"))\n",
    "    c=c+1\n",
    "    \n",
    "date_tag=driver.find_element_by_xpath(\"//div[@class='input-holder pb-2 depart']/label/input\")\n",
    "for j in range(c):\n",
    "    date.append(date_tag.text.replace(\"/n\",\" \"))"
   ]
  },
  {
   "cell_type": "markdown",
   "id": "ab581e3e",
   "metadata": {},
   "source": [
    "Flights from chennai to various destinations"
   ]
  },
  {
   "cell_type": "code",
   "execution_count": 50,
   "id": "b07714db",
   "metadata": {},
   "outputs": [],
   "source": [
    "url='https://flight.yatra.com/air-search-ui/dom2/trigger?ADT=1&CHD=0&INF=0&class=Economy&destination=IXJ&destinationCountry=IN&flexi=0&flight_depart_date=30%2F11%2F2021&hb=0&noOfSegments=1&origin=MAA&originCountry=IN&type=O&unique=1208409577129&version=1.1&viewName=normal'\n",
    "driver.get(url)\n"
   ]
  },
  {
   "cell_type": "code",
   "execution_count": 51,
   "id": "6bf40b00",
   "metadata": {},
   "outputs": [
    {
     "name": "stderr",
     "output_type": "stream",
     "text": [
      "<ipython-input-51-cbc6b6d89182>:1: DeprecationWarning: find_elements_by_* commands are deprecated. Please use find_elements() instead\n",
      "  nm=driver.find_elements_by_xpath(\"//div[@class='fs-13 airline-name no-pad col-8']/span\")\n",
      "<ipython-input-51-cbc6b6d89182>:5: DeprecationWarning: find_elements_by_* commands are deprecated. Please use find_elements() instead\n",
      "  time=driver.find_elements_by_xpath(\"//div[@class='i-b col-4 no-wrap text-right dtime col-3']/div\")\n",
      "<ipython-input-51-cbc6b6d89182>:9: DeprecationWarning: find_elements_by_* commands are deprecated. Please use find_elements() instead\n",
      "  source_tag=driver.find_elements_by_xpath(\"//div[@class='i-b col-4 no-wrap text-right dtime col-3']/p\")\n",
      "<ipython-input-51-cbc6b6d89182>:13: DeprecationWarning: find_elements_by_* commands are deprecated. Please use find_elements() instead\n",
      "  time=driver.find_elements_by_xpath(\"//div[@class='i-b pdd-0 text-left atime col-5']/p[1]\")\n",
      "<ipython-input-51-cbc6b6d89182>:17: DeprecationWarning: find_elements_by_* commands are deprecated. Please use find_elements() instead\n",
      "  dest_tag=driver.find_elements_by_xpath(\"//div[@class='i-b pdd-0 text-left atime col-5']/p[2]\")\n",
      "<ipython-input-51-cbc6b6d89182>:21: DeprecationWarning: find_elements_by_* commands are deprecated. Please use find_elements() instead\n",
      "  duration_tag=driver.find_elements_by_xpath(\"//div[@class='stop-cont pl-13']/p\")\n",
      "<ipython-input-51-cbc6b6d89182>:25: DeprecationWarning: find_elements_by_* commands are deprecated. Please use find_elements() instead\n",
      "  stops_tag=driver.find_elements_by_xpath(\"//div[@class='stop-cont pl-13']/div\")\n",
      "<ipython-input-51-cbc6b6d89182>:30: DeprecationWarning: find_elements_by_* commands are deprecated. Please use find_elements() instead\n",
      "  price_tag=driver.find_elements_by_xpath(\"//div[@class='i-b tipsy fare-summary-tooltip fs-18']\")\n",
      "<ipython-input-51-cbc6b6d89182>:35: DeprecationWarning: find_element_by_* commands are deprecated. Please use find_element() instead\n",
      "  date_tag=driver.find_element_by_xpath(\"//div[@class='input-holder pb-2 depart']/label/input\")\n"
     ]
    }
   ],
   "source": [
    "nm=driver.find_elements_by_xpath(\"//div[@class='fs-13 airline-name no-pad col-8']/span\")\n",
    "for j in nm:\n",
    "    name.append(j.text.replace(\"\\n\",\" \"))\n",
    "    \n",
    "time=driver.find_elements_by_xpath(\"//div[@class='i-b col-4 no-wrap text-right dtime col-3']/div\")\n",
    "for j in time:\n",
    "    dept_time.append(j.text.replace(\"\\n\",\" \"))\n",
    "        \n",
    "source_tag=driver.find_elements_by_xpath(\"//div[@class='i-b col-4 no-wrap text-right dtime col-3']/p\")\n",
    "for j in source_tag:\n",
    "    source.append(j.text.replace(\"\\n\",\" \"))\n",
    "    \n",
    "time=driver.find_elements_by_xpath(\"//div[@class='i-b pdd-0 text-left atime col-5']/p[1]\")\n",
    "for j in time:\n",
    "    arrival_time.append(j.text.replace(\"\\n\",\" \"))\n",
    "\n",
    "dest_tag=driver.find_elements_by_xpath(\"//div[@class='i-b pdd-0 text-left atime col-5']/p[2]\")\n",
    "for j in dest_tag:\n",
    "    destination.append(j.text.replace(\"\\n\",\" \"))\n",
    "\n",
    "duration_tag=driver.find_elements_by_xpath(\"//div[@class='stop-cont pl-13']/p\")\n",
    "for j in duration_tag:\n",
    "    duration.append(j.text.replace(\"\\n\",\" \"))\n",
    "    \n",
    "stops_tag=driver.find_elements_by_xpath(\"//div[@class='stop-cont pl-13']/div\")\n",
    "for j in stops_tag:\n",
    "    stops.append(j.text.replace(\"\\n\",\" \"))\n",
    "    \n",
    "c=0\n",
    "price_tag=driver.find_elements_by_xpath(\"//div[@class='i-b tipsy fare-summary-tooltip fs-18']\")\n",
    "for j in price_tag:\n",
    "    price.append(j.text.replace(\"\\n\",\" \"))\n",
    "    c=c+1\n",
    "    \n",
    "date_tag=driver.find_element_by_xpath(\"//div[@class='input-holder pb-2 depart']/label/input\")\n",
    "for j in range(c):\n",
    "    date.append(date_tag.text.replace(\"/n\",\" \"))"
   ]
  },
  {
   "cell_type": "markdown",
   "id": "3f44e177",
   "metadata": {},
   "source": [
    "Flights to various destinations from goa"
   ]
  },
  {
   "cell_type": "code",
   "execution_count": 52,
   "id": "e2315342",
   "metadata": {},
   "outputs": [],
   "source": [
    "url='https://flight.yatra.com/air-search-ui/dom2/trigger?ADT=1&CHD=0&INF=0&class=Economy&destination=MAA&destinationCountry=IN&flexi=0&flight_depart_date=30%2F11%2F2021&hb=0&noOfSegments=1&origin=IXJ&originCountry=IN&type=O&unique=1279130656990&version=1.1&viewName=normal'\n",
    "driver.get(url)\n"
   ]
  },
  {
   "cell_type": "code",
   "execution_count": 53,
   "id": "358f79a1",
   "metadata": {},
   "outputs": [
    {
     "name": "stderr",
     "output_type": "stream",
     "text": [
      "<ipython-input-53-cbc6b6d89182>:1: DeprecationWarning: find_elements_by_* commands are deprecated. Please use find_elements() instead\n",
      "  nm=driver.find_elements_by_xpath(\"//div[@class='fs-13 airline-name no-pad col-8']/span\")\n",
      "<ipython-input-53-cbc6b6d89182>:5: DeprecationWarning: find_elements_by_* commands are deprecated. Please use find_elements() instead\n",
      "  time=driver.find_elements_by_xpath(\"//div[@class='i-b col-4 no-wrap text-right dtime col-3']/div\")\n",
      "<ipython-input-53-cbc6b6d89182>:9: DeprecationWarning: find_elements_by_* commands are deprecated. Please use find_elements() instead\n",
      "  source_tag=driver.find_elements_by_xpath(\"//div[@class='i-b col-4 no-wrap text-right dtime col-3']/p\")\n",
      "<ipython-input-53-cbc6b6d89182>:13: DeprecationWarning: find_elements_by_* commands are deprecated. Please use find_elements() instead\n",
      "  time=driver.find_elements_by_xpath(\"//div[@class='i-b pdd-0 text-left atime col-5']/p[1]\")\n",
      "<ipython-input-53-cbc6b6d89182>:17: DeprecationWarning: find_elements_by_* commands are deprecated. Please use find_elements() instead\n",
      "  dest_tag=driver.find_elements_by_xpath(\"//div[@class='i-b pdd-0 text-left atime col-5']/p[2]\")\n",
      "<ipython-input-53-cbc6b6d89182>:21: DeprecationWarning: find_elements_by_* commands are deprecated. Please use find_elements() instead\n",
      "  duration_tag=driver.find_elements_by_xpath(\"//div[@class='stop-cont pl-13']/p\")\n",
      "<ipython-input-53-cbc6b6d89182>:25: DeprecationWarning: find_elements_by_* commands are deprecated. Please use find_elements() instead\n",
      "  stops_tag=driver.find_elements_by_xpath(\"//div[@class='stop-cont pl-13']/div\")\n",
      "<ipython-input-53-cbc6b6d89182>:30: DeprecationWarning: find_elements_by_* commands are deprecated. Please use find_elements() instead\n",
      "  price_tag=driver.find_elements_by_xpath(\"//div[@class='i-b tipsy fare-summary-tooltip fs-18']\")\n",
      "<ipython-input-53-cbc6b6d89182>:35: DeprecationWarning: find_element_by_* commands are deprecated. Please use find_element() instead\n",
      "  date_tag=driver.find_element_by_xpath(\"//div[@class='input-holder pb-2 depart']/label/input\")\n"
     ]
    }
   ],
   "source": [
    "nm=driver.find_elements_by_xpath(\"//div[@class='fs-13 airline-name no-pad col-8']/span\")\n",
    "for j in nm:\n",
    "    name.append(j.text.replace(\"\\n\",\" \"))\n",
    "    \n",
    "time=driver.find_elements_by_xpath(\"//div[@class='i-b col-4 no-wrap text-right dtime col-3']/div\")\n",
    "for j in time:\n",
    "    dept_time.append(j.text.replace(\"\\n\",\" \"))\n",
    "        \n",
    "source_tag=driver.find_elements_by_xpath(\"//div[@class='i-b col-4 no-wrap text-right dtime col-3']/p\")\n",
    "for j in source_tag:\n",
    "    source.append(j.text.replace(\"\\n\",\" \"))\n",
    "    \n",
    "time=driver.find_elements_by_xpath(\"//div[@class='i-b pdd-0 text-left atime col-5']/p[1]\")\n",
    "for j in time:\n",
    "    arrival_time.append(j.text.replace(\"\\n\",\" \"))\n",
    "\n",
    "dest_tag=driver.find_elements_by_xpath(\"//div[@class='i-b pdd-0 text-left atime col-5']/p[2]\")\n",
    "for j in dest_tag:\n",
    "    destination.append(j.text.replace(\"\\n\",\" \"))\n",
    "\n",
    "duration_tag=driver.find_elements_by_xpath(\"//div[@class='stop-cont pl-13']/p\")\n",
    "for j in duration_tag:\n",
    "    duration.append(j.text.replace(\"\\n\",\" \"))\n",
    "    \n",
    "stops_tag=driver.find_elements_by_xpath(\"//div[@class='stop-cont pl-13']/div\")\n",
    "for j in stops_tag:\n",
    "    stops.append(j.text.replace(\"\\n\",\" \"))\n",
    "    \n",
    "c=0\n",
    "price_tag=driver.find_elements_by_xpath(\"//div[@class='i-b tipsy fare-summary-tooltip fs-18']\")\n",
    "for j in price_tag:\n",
    "    price.append(j.text.replace(\"\\n\",\" \"))\n",
    "    c=c+1\n",
    "    \n",
    "date_tag=driver.find_element_by_xpath(\"//div[@class='input-holder pb-2 depart']/label/input\")\n",
    "for j in range(c):\n",
    "    date.append(date_tag.text.replace(\"/n\",\" \"))"
   ]
  },
  {
   "cell_type": "code",
   "execution_count": 61,
   "id": "467546d8",
   "metadata": {},
   "outputs": [],
   "source": [
    "url='https://flight.yatra.com/air-search-ui/seodom/trigger?type=O&viewName=normal&flexi=0&noOfSegments=1&origin=DEL&originCountry=IN&destination=GOI&preferred=&destinationCountry=IN&flight_depart_date=17%2F01%2F2022&ADT=1&CHD=0&INF=0&class=Economy&source=seo'\n",
    "driver.get(url)\n"
   ]
  },
  {
   "cell_type": "code",
   "execution_count": 62,
   "id": "de8afef5",
   "metadata": {},
   "outputs": [
    {
     "name": "stderr",
     "output_type": "stream",
     "text": [
      "<ipython-input-62-cbc6b6d89182>:1: DeprecationWarning: find_elements_by_* commands are deprecated. Please use find_elements() instead\n",
      "  nm=driver.find_elements_by_xpath(\"//div[@class='fs-13 airline-name no-pad col-8']/span\")\n",
      "<ipython-input-62-cbc6b6d89182>:5: DeprecationWarning: find_elements_by_* commands are deprecated. Please use find_elements() instead\n",
      "  time=driver.find_elements_by_xpath(\"//div[@class='i-b col-4 no-wrap text-right dtime col-3']/div\")\n",
      "<ipython-input-62-cbc6b6d89182>:9: DeprecationWarning: find_elements_by_* commands are deprecated. Please use find_elements() instead\n",
      "  source_tag=driver.find_elements_by_xpath(\"//div[@class='i-b col-4 no-wrap text-right dtime col-3']/p\")\n",
      "<ipython-input-62-cbc6b6d89182>:13: DeprecationWarning: find_elements_by_* commands are deprecated. Please use find_elements() instead\n",
      "  time=driver.find_elements_by_xpath(\"//div[@class='i-b pdd-0 text-left atime col-5']/p[1]\")\n",
      "<ipython-input-62-cbc6b6d89182>:17: DeprecationWarning: find_elements_by_* commands are deprecated. Please use find_elements() instead\n",
      "  dest_tag=driver.find_elements_by_xpath(\"//div[@class='i-b pdd-0 text-left atime col-5']/p[2]\")\n",
      "<ipython-input-62-cbc6b6d89182>:21: DeprecationWarning: find_elements_by_* commands are deprecated. Please use find_elements() instead\n",
      "  duration_tag=driver.find_elements_by_xpath(\"//div[@class='stop-cont pl-13']/p\")\n",
      "<ipython-input-62-cbc6b6d89182>:25: DeprecationWarning: find_elements_by_* commands are deprecated. Please use find_elements() instead\n",
      "  stops_tag=driver.find_elements_by_xpath(\"//div[@class='stop-cont pl-13']/div\")\n",
      "<ipython-input-62-cbc6b6d89182>:30: DeprecationWarning: find_elements_by_* commands are deprecated. Please use find_elements() instead\n",
      "  price_tag=driver.find_elements_by_xpath(\"//div[@class='i-b tipsy fare-summary-tooltip fs-18']\")\n",
      "<ipython-input-62-cbc6b6d89182>:35: DeprecationWarning: find_element_by_* commands are deprecated. Please use find_element() instead\n",
      "  date_tag=driver.find_element_by_xpath(\"//div[@class='input-holder pb-2 depart']/label/input\")\n"
     ]
    }
   ],
   "source": [
    "nm=driver.find_elements_by_xpath(\"//div[@class='fs-13 airline-name no-pad col-8']/span\")\n",
    "for j in nm:\n",
    "    name.append(j.text.replace(\"\\n\",\" \"))\n",
    "    \n",
    "time=driver.find_elements_by_xpath(\"//div[@class='i-b col-4 no-wrap text-right dtime col-3']/div\")\n",
    "for j in time:\n",
    "    dept_time.append(j.text.replace(\"\\n\",\" \"))\n",
    "        \n",
    "source_tag=driver.find_elements_by_xpath(\"//div[@class='i-b col-4 no-wrap text-right dtime col-3']/p\")\n",
    "for j in source_tag:\n",
    "    source.append(j.text.replace(\"\\n\",\" \"))\n",
    "    \n",
    "time=driver.find_elements_by_xpath(\"//div[@class='i-b pdd-0 text-left atime col-5']/p[1]\")\n",
    "for j in time:\n",
    "    arrival_time.append(j.text.replace(\"\\n\",\" \"))\n",
    "\n",
    "dest_tag=driver.find_elements_by_xpath(\"//div[@class='i-b pdd-0 text-left atime col-5']/p[2]\")\n",
    "for j in dest_tag:\n",
    "    destination.append(j.text.replace(\"\\n\",\" \"))\n",
    "\n",
    "duration_tag=driver.find_elements_by_xpath(\"//div[@class='stop-cont pl-13']/p\")\n",
    "for j in duration_tag:\n",
    "    duration.append(j.text.replace(\"\\n\",\" \"))\n",
    "    \n",
    "stops_tag=driver.find_elements_by_xpath(\"//div[@class='stop-cont pl-13']/div\")\n",
    "for j in stops_tag:\n",
    "    stops.append(j.text.replace(\"\\n\",\" \"))\n",
    "    \n",
    "c=0\n",
    "price_tag=driver.find_elements_by_xpath(\"//div[@class='i-b tipsy fare-summary-tooltip fs-18']\")\n",
    "for j in price_tag:\n",
    "    price.append(j.text.replace(\"\\n\",\" \"))\n",
    "    c=c+1\n",
    "    \n",
    "date_tag=driver.find_element_by_xpath(\"//div[@class='input-holder pb-2 depart']/label/input\")\n",
    "for j in range(c):\n",
    "    date.append(date_tag.text.replace(\"/n\",\" \"))"
   ]
  },
  {
   "cell_type": "markdown",
   "id": "64c23d73",
   "metadata": {},
   "source": [
    "Flights to various destinations from Kolkata"
   ]
  },
  {
   "cell_type": "code",
   "execution_count": 63,
   "id": "d1a3f145",
   "metadata": {},
   "outputs": [],
   "source": [
    "url='https://flight.yatra.com/air-search-ui/seodom/trigger?type=O&viewName=normal&flexi=0&noOfSegments=1&origin=CCU&originCountry=IN&destination=BOM&preferred=&destinationCountry=IN&flight_depart_date=11%2F01%2F2022&ADT=1&CHD=0&INF=0&class=Economy&source=seo'\n",
    "driver.get(url)\n"
   ]
  },
  {
   "cell_type": "code",
   "execution_count": 64,
   "id": "6b35ceef",
   "metadata": {},
   "outputs": [
    {
     "name": "stderr",
     "output_type": "stream",
     "text": [
      "<ipython-input-64-cbc6b6d89182>:1: DeprecationWarning: find_elements_by_* commands are deprecated. Please use find_elements() instead\n",
      "  nm=driver.find_elements_by_xpath(\"//div[@class='fs-13 airline-name no-pad col-8']/span\")\n",
      "<ipython-input-64-cbc6b6d89182>:5: DeprecationWarning: find_elements_by_* commands are deprecated. Please use find_elements() instead\n",
      "  time=driver.find_elements_by_xpath(\"//div[@class='i-b col-4 no-wrap text-right dtime col-3']/div\")\n",
      "<ipython-input-64-cbc6b6d89182>:9: DeprecationWarning: find_elements_by_* commands are deprecated. Please use find_elements() instead\n",
      "  source_tag=driver.find_elements_by_xpath(\"//div[@class='i-b col-4 no-wrap text-right dtime col-3']/p\")\n",
      "<ipython-input-64-cbc6b6d89182>:13: DeprecationWarning: find_elements_by_* commands are deprecated. Please use find_elements() instead\n",
      "  time=driver.find_elements_by_xpath(\"//div[@class='i-b pdd-0 text-left atime col-5']/p[1]\")\n",
      "<ipython-input-64-cbc6b6d89182>:17: DeprecationWarning: find_elements_by_* commands are deprecated. Please use find_elements() instead\n",
      "  dest_tag=driver.find_elements_by_xpath(\"//div[@class='i-b pdd-0 text-left atime col-5']/p[2]\")\n",
      "<ipython-input-64-cbc6b6d89182>:21: DeprecationWarning: find_elements_by_* commands are deprecated. Please use find_elements() instead\n",
      "  duration_tag=driver.find_elements_by_xpath(\"//div[@class='stop-cont pl-13']/p\")\n",
      "<ipython-input-64-cbc6b6d89182>:25: DeprecationWarning: find_elements_by_* commands are deprecated. Please use find_elements() instead\n",
      "  stops_tag=driver.find_elements_by_xpath(\"//div[@class='stop-cont pl-13']/div\")\n",
      "<ipython-input-64-cbc6b6d89182>:30: DeprecationWarning: find_elements_by_* commands are deprecated. Please use find_elements() instead\n",
      "  price_tag=driver.find_elements_by_xpath(\"//div[@class='i-b tipsy fare-summary-tooltip fs-18']\")\n",
      "<ipython-input-64-cbc6b6d89182>:35: DeprecationWarning: find_element_by_* commands are deprecated. Please use find_element() instead\n",
      "  date_tag=driver.find_element_by_xpath(\"//div[@class='input-holder pb-2 depart']/label/input\")\n"
     ]
    }
   ],
   "source": [
    "nm=driver.find_elements_by_xpath(\"//div[@class='fs-13 airline-name no-pad col-8']/span\")\n",
    "for j in nm:\n",
    "    name.append(j.text.replace(\"\\n\",\" \"))\n",
    "    \n",
    "time=driver.find_elements_by_xpath(\"//div[@class='i-b col-4 no-wrap text-right dtime col-3']/div\")\n",
    "for j in time:\n",
    "    dept_time.append(j.text.replace(\"\\n\",\" \"))\n",
    "        \n",
    "source_tag=driver.find_elements_by_xpath(\"//div[@class='i-b col-4 no-wrap text-right dtime col-3']/p\")\n",
    "for j in source_tag:\n",
    "    source.append(j.text.replace(\"\\n\",\" \"))\n",
    "    \n",
    "time=driver.find_elements_by_xpath(\"//div[@class='i-b pdd-0 text-left atime col-5']/p[1]\")\n",
    "for j in time:\n",
    "    arrival_time.append(j.text.replace(\"\\n\",\" \"))\n",
    "\n",
    "dest_tag=driver.find_elements_by_xpath(\"//div[@class='i-b pdd-0 text-left atime col-5']/p[2]\")\n",
    "for j in dest_tag:\n",
    "    destination.append(j.text.replace(\"\\n\",\" \"))\n",
    "\n",
    "duration_tag=driver.find_elements_by_xpath(\"//div[@class='stop-cont pl-13']/p\")\n",
    "for j in duration_tag:\n",
    "    duration.append(j.text.replace(\"\\n\",\" \"))\n",
    "    \n",
    "stops_tag=driver.find_elements_by_xpath(\"//div[@class='stop-cont pl-13']/div\")\n",
    "for j in stops_tag:\n",
    "    stops.append(j.text.replace(\"\\n\",\" \"))\n",
    "    \n",
    "c=0\n",
    "price_tag=driver.find_elements_by_xpath(\"//div[@class='i-b tipsy fare-summary-tooltip fs-18']\")\n",
    "for j in price_tag:\n",
    "    price.append(j.text.replace(\"\\n\",\" \"))\n",
    "    c=c+1\n",
    "    \n",
    "date_tag=driver.find_element_by_xpath(\"//div[@class='input-holder pb-2 depart']/label/input\")\n",
    "for j in range(c):\n",
    "    date.append(date_tag.text.replace(\"/n\",\" \"))"
   ]
  },
  {
   "cell_type": "code",
   "execution_count": 65,
   "id": "f5a5703c",
   "metadata": {},
   "outputs": [],
   "source": [
    "name=name[:870]\n",
    "date=date[:870]\n",
    "source=source[:870]\n",
    "destination=destination[:870]\n",
    "dept_time=dept_time[:870]\n",
    "arrival_time=arrival_time[:870]\n",
    "duration=duration[:870]\n",
    "stops=stops[:870]\n",
    "price=price[:870]\n",
    "#link=[]"
   ]
  },
  {
   "cell_type": "code",
   "execution_count": 66,
   "id": "505e221c",
   "metadata": {},
   "outputs": [
    {
     "data": {
      "text/html": [
       "<div>\n",
       "<style scoped>\n",
       "    .dataframe tbody tr th:only-of-type {\n",
       "        vertical-align: middle;\n",
       "    }\n",
       "\n",
       "    .dataframe tbody tr th {\n",
       "        vertical-align: top;\n",
       "    }\n",
       "\n",
       "    .dataframe thead th {\n",
       "        text-align: right;\n",
       "    }\n",
       "</style>\n",
       "<table border=\"1\" class=\"dataframe\">\n",
       "  <thead>\n",
       "    <tr style=\"text-align: right;\">\n",
       "      <th></th>\n",
       "      <th>Name</th>\n",
       "      <th>Date</th>\n",
       "      <th>Departure</th>\n",
       "      <th>Arrival</th>\n",
       "      <th>Source</th>\n",
       "      <th>Destination</th>\n",
       "      <th>Stops</th>\n",
       "      <th>Duration</th>\n",
       "      <th>Price</th>\n",
       "    </tr>\n",
       "  </thead>\n",
       "  <tbody>\n",
       "    <tr>\n",
       "      <th>0</th>\n",
       "      <td>Go First</td>\n",
       "      <td>19 May</td>\n",
       "      <td>02:40</td>\n",
       "      <td>04:55</td>\n",
       "      <td>New Delhi</td>\n",
       "      <td>Mumbai</td>\n",
       "      <td>Non Stop</td>\n",
       "      <td>2h 15m</td>\n",
       "      <td>2,410</td>\n",
       "    </tr>\n",
       "    <tr>\n",
       "      <th>1</th>\n",
       "      <td>Air India</td>\n",
       "      <td>19 May</td>\n",
       "      <td>07:00</td>\n",
       "      <td>09:05</td>\n",
       "      <td>New Delhi</td>\n",
       "      <td>Mumbai</td>\n",
       "      <td>Non Stop</td>\n",
       "      <td>2h 05m</td>\n",
       "      <td>2,476</td>\n",
       "    </tr>\n",
       "    <tr>\n",
       "      <th>2</th>\n",
       "      <td>Air India</td>\n",
       "      <td>19 May</td>\n",
       "      <td>13:00</td>\n",
       "      <td>15:10</td>\n",
       "      <td>New Delhi</td>\n",
       "      <td>Mumbai</td>\n",
       "      <td>Non Stop</td>\n",
       "      <td>2h 10m</td>\n",
       "      <td>2,476</td>\n",
       "    </tr>\n",
       "    <tr>\n",
       "      <th>3</th>\n",
       "      <td>Air India</td>\n",
       "      <td>19 May</td>\n",
       "      <td>09:00</td>\n",
       "      <td>11:15</td>\n",
       "      <td>New Delhi</td>\n",
       "      <td>Mumbai</td>\n",
       "      <td>Non Stop</td>\n",
       "      <td>2h 15m</td>\n",
       "      <td>2,476</td>\n",
       "    </tr>\n",
       "    <tr>\n",
       "      <th>4</th>\n",
       "      <td>Air India</td>\n",
       "      <td>19 May</td>\n",
       "      <td>17:50</td>\n",
       "      <td>21:35</td>\n",
       "      <td>New Delhi</td>\n",
       "      <td>Mumbai</td>\n",
       "      <td>1 Stop</td>\n",
       "      <td>3h 45m</td>\n",
       "      <td>2,476</td>\n",
       "    </tr>\n",
       "  </tbody>\n",
       "</table>\n",
       "</div>"
      ],
      "text/plain": [
       "        Name    Date Departure Arrival     Source Destination     Stops  \\\n",
       "0   Go First  19 May     02:40   04:55  New Delhi      Mumbai  Non Stop   \n",
       "1  Air India  19 May     07:00   09:05  New Delhi      Mumbai  Non Stop   \n",
       "2  Air India  19 May     13:00   15:10  New Delhi      Mumbai  Non Stop   \n",
       "3  Air India  19 May     09:00   11:15  New Delhi      Mumbai  Non Stop   \n",
       "4  Air India  19 May     17:50   21:35  New Delhi      Mumbai    1 Stop   \n",
       "\n",
       "  Duration  Price  \n",
       "0   2h 15m  2,410  \n",
       "1   2h 05m  2,476  \n",
       "2   2h 10m  2,476  \n",
       "3   2h 15m  2,476  \n",
       "4   3h 45m  2,476  "
      ]
     },
     "execution_count": 66,
     "metadata": {},
     "output_type": "execute_result"
    }
   ],
   "source": [
    "Flight=pd.DataFrame()\n",
    "Flight[\"Name\"]=name\n",
    "Flight[\"Date\"]=date\n",
    "Flight[\"Departure\"]=dept_time\n",
    "Flight[\"Arrival\"]=arrival_time\n",
    "Flight[\"Source\"]=source\n",
    "Flight[\"Destination\"]=destination\n",
    "Flight[\"Stops\"]=stops\n",
    "Flight[\"Duration\"]=duration\n",
    "Flight[\"Price\"]=price\n",
    "Flight.head()"
   ]
  },
  {
   "cell_type": "code",
   "execution_count": 67,
   "id": "4b6cf3ea",
   "metadata": {},
   "outputs": [],
   "source": [
    "Flight.to_csv('FlightData1.csv')"
   ]
  },
  {
   "cell_type": "code",
   "execution_count": null,
   "id": "60a686c4",
   "metadata": {},
   "outputs": [],
   "source": []
  }
 ],
 "metadata": {
  "kernelspec": {
   "display_name": "Python 3",
   "language": "python",
   "name": "python3"
  },
  "language_info": {
   "codemirror_mode": {
    "name": "ipython",
    "version": 3
   },
   "file_extension": ".py",
   "mimetype": "text/x-python",
   "name": "python",
   "nbconvert_exporter": "python",
   "pygments_lexer": "ipython3",
   "version": "3.8.8"
  }
 },
 "nbformat": 4,
 "nbformat_minor": 5
}
